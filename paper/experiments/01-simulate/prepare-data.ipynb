{
 "cells": [
  {
   "cell_type": "code",
   "execution_count": 1,
   "id": "a023a25b-9ee1-4c46-bd14-57e594e7e886",
   "metadata": {},
   "outputs": [
    {
     "name": "stdout",
     "output_type": "stream",
     "text": [
      "/u/project/pasaniuc/kangchen/2021-h2gene/experiments/01_simulate\n"
     ]
    }
   ],
   "source": [
    "%load_ext autoreload\n",
    "%autoreload 2\n",
    "%load_ext lab_black\n",
    "\n",
    "import submitit\n",
    "import sys\n",
    "from os.path import join\n",
    "\n",
    "sys.path.append(\"../../src\")\n",
    "import simulate\n",
    "import pandas as pd\n",
    "from tqdm import tqdm"
   ]
  },
  {
   "cell_type": "code",
   "execution_count": 2,
   "id": "6520557b-9a8d-4abe-9950-206805f8f4f4",
   "metadata": {},
   "outputs": [],
   "source": [
    "CHROM = 1\n",
    "SUMSTATS_DIR = \"/u/project/pasaniuc/pasaniucdata/UKBB_IMPUTED_LD_SUMSTATS\"\n",
    "PLINK_PATH = join(SUMSTATS_DIR, f\"genotype/raw/chr{CHROM}\")\n",
    "LD_PATH = join(SUMSTATS_DIR, \"ld/\")\n",
    "LDSCORE_PATH = join(SUMSTATS_DIR, f\"ldscore/chr{CHROM}.l2.ldscore.gz\")\n",
    "GENE_LIST_PATH = \"../../data/gene_list.bed\"\n",
    "LD_BLOCK_PATH = \"../../data/ld_blocks.bed\""
   ]
  },
  {
   "cell_type": "code",
   "execution_count": 12,
   "id": "37674858-6e13-4b29-aed9-0c92ef3b42c7",
   "metadata": {},
   "outputs": [],
   "source": [
    "bim = pd.read_csv(\n",
    "    PLINK_PATH + \".bim\",\n",
    "    header=None,\n",
    "    delim_whitespace=True,\n",
    "    names=[\"CHR\", \"SNP\", \"CM\", \"BP\", \"A1\", \"A2\"],\n",
    ")\n",
    "mean_std = pd.read_csv(PLINK_PATH + \"_mean_std.txt\", delim_whitespace=True)\n",
    "ldscore = pd.read_csv(LDSCORE_PATH, delim_whitespace=True)\n",
    "\n",
    "bim[\"MAF\"] = 1.0 - mean_std[\"mean\"].values / 2\n",
    "bim[\"LDSCORE\"] = ldscore[\"L2\"]\n",
    "\n",
    "bim.to_csv(\"data/snp_info.tsv\", sep=\"\\t\", index=False)\n",
    "\n",
    "df_gene = pd.read_csv(\n",
    "    GENE_LIST_PATH,\n",
    "    header=None,\n",
    "    names=[\"CHR\", \"START\", \"STOP\", \"STRAND\", \"NAME\"],\n",
    "    delim_whitespace=True,\n",
    ")\n",
    "df_gene = df_gene[df_gene.CHR == str(CHROM)].reset_index(drop=True)\n",
    "\n",
    "df_partition = pd.read_csv(LD_BLOCK_PATH, delim_whitespace=True)\n",
    "df_partition.columns = [\"CHR\", \"START\", \"STOP\"]\n",
    "df_partition[\"CHR\"] = df_partition[\"CHR\"].apply(lambda x: int(x[3:]))\n",
    "df_partition = df_partition[df_partition.CHR == CHROM]\n",
    "df_partition.to_csv(\"data/partition.bed\", sep=\"\\t\", index=False)"
   ]
  },
  {
   "cell_type": "markdown",
   "id": "7d971a87-c1b4-4eb8-a1c5-1b20e8f17104",
   "metadata": {},
   "source": [
    "# Here in simulation, "
   ]
  },
  {
   "cell_type": "code",
   "execution_count": 36,
   "id": "f2b3fdb2-050a-404b-86f0-f6add8f7e5c7",
   "metadata": {},
   "outputs": [
    {
     "name": "stderr",
     "output_type": "stream",
     "text": [
      "100%|██████████| 133/133 [00:01<00:00, 85.99it/s]\n"
     ]
    }
   ],
   "source": [
    "MIN_GENE_N_SNP = 25\n",
    "\n",
    "# for each gene, filter out genes overlapping with LD block boundary / no SNPs\n",
    "filtered_index = []\n",
    "for par_i, par in tqdm(df_partition.iterrows(), total=df_partition.shape[0]):\n",
    "    df_par_gene = df_gene.loc[\n",
    "        (par.START <= df_gene.START) & (df_gene.STOP < par.STOP), :\n",
    "    ]\n",
    "    df_par_bim = bim.loc[(par.START <= bim.BP) & (bim.BP < par.STOP), :]\n",
    "    for gene_i, gene in df_par_gene.iterrows():\n",
    "        if (\n",
    "            sum((gene.START <= df_par_bim.BP) & (df_par_bim.BP < gene.STOP))\n",
    "            > MIN_GENE_N_SNP\n",
    "        ):\n",
    "            filtered_index.append(gene_i)\n",
    "\n",
    "df_gene = df_gene.iloc[filtered_index, :].reset_index(drop=True)\n",
    "df_gene.to_csv(\"data/df_gene.tsv\", sep=\"\\t\", index=False)"
   ]
  }
 ],
 "metadata": {
  "kernelspec": {
   "display_name": "Python 3",
   "language": "python",
   "name": "python3"
  },
  "language_info": {
   "codemirror_mode": {
    "name": "ipython",
    "version": 3
   },
   "file_extension": ".py",
   "mimetype": "text/x-python",
   "name": "python",
   "nbconvert_exporter": "python",
   "pygments_lexer": "ipython3",
   "version": "3.8.5"
  }
 },
 "nbformat": 4,
 "nbformat_minor": 5
}
