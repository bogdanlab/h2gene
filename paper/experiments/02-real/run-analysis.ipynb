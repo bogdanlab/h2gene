{
 "cells": [
  {
   "cell_type": "code",
   "execution_count": 10,
   "id": "b549de9d-0e47-457e-b059-7e8b9eb5ed02",
   "metadata": {},
   "outputs": [
    {
     "name": "stdout",
     "output_type": "stream",
     "text": [
      "The autoreload extension is already loaded. To reload it, use:\n",
      "  %reload_ext autoreload\n",
      "The lab_black extension is already loaded. To reload it, use:\n",
      "  %reload_ext lab_black\n"
     ]
    }
   ],
   "source": [
    "%load_ext autoreload\n",
    "%autoreload 2\n",
    "%load_ext lab_black\n",
    "\n",
    "import submitit\n",
    "import sys\n",
    "from os.path import join\n",
    "\n",
    "import pandas as pd\n",
    "import numpy as np\n",
    "import matplotlib.pyplot as plt\n",
    "import os\n",
    "import subprocess\n",
    "import itertools"
   ]
  },
  {
   "cell_type": "code",
   "execution_count": 11,
   "id": "01f39445-e1c8-4ef3-9497-f84cf2f0ea20",
   "metadata": {},
   "outputs": [],
   "source": [
    "SUMSTATS_DIR = \"/u/project/pasaniuc/pasaniucdata/UKBB_IMPUTED_LD_SUMSTATS\""
   ]
  },
  {
   "cell_type": "code",
   "execution_count": 21,
   "id": "7eab7b0d-676b-463e-a069-b74934029ce4",
   "metadata": {},
   "outputs": [],
   "source": [
    "def submit_estimate(trait, chrom, par_i, out_dir=\"out/estimate\"):\n",
    "\n",
    "    out_dir = f\"out/estimate/{trait}\"\n",
    "    gene_list = \"data/gene_list.bed\"\n",
    "    ld_prefix = join(SUMSTATS_DIR, \"ld\", str(chrom), f\"par_{par_i}\")\n",
    "\n",
    "    if not os.path.exists(out_dir):\n",
    "        os.makedirs(out_dir)\n",
    "\n",
    "    sumstats = f\"{SUMSTATS_DIR}/sumstats/{trait}/chr_{chrom}_par_{par_i}.tsv.gz\"\n",
    "\n",
    "    cmd = \" \".join(\n",
    "        [\n",
    "            \"/u/project/pasaniuc/kangchen/software/miniconda3/envs/r/bin/Rscript\",\n",
    "            \"/u/project/pasaniuc/kangchen/2021-h2gene/src/h2gene_cli_v2.R\",\n",
    "            f\"--ld_prefix {ld_prefix}\",\n",
    "            f\"--gene_list {gene_list}\",\n",
    "            f\"--sumstats {sumstats}\",\n",
    "            \"--min_cor 0.2\",\n",
    "            \"--out\",\n",
    "            join(out_dir, f\"chr_{chrom}_par_{par_i}.rds\"),\n",
    "        ]\n",
    "    )\n",
    "\n",
    "    print(cmd)\n",
    "\n",
    "    subprocess.check_output(cmd, shell=True)"
   ]
  }
 ],
 "metadata": {
  "kernelspec": {
   "display_name": "Python 3",
   "language": "python",
   "name": "python3"
  },
  "language_info": {
   "codemirror_mode": {
    "name": "ipython",
    "version": 3
   },
   "file_extension": ".py",
   "mimetype": "text/x-python",
   "name": "python",
   "nbconvert_exporter": "python",
   "pygments_lexer": "ipython3",
   "version": "3.8.5"
  }
 },
 "nbformat": 4,
 "nbformat_minor": 5
}
