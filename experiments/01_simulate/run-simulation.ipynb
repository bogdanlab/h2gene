{
 "cells": [
  {
   "cell_type": "code",
   "execution_count": 1,
   "id": "d86c6d8f-0398-476d-a812-8f2c5ec26ab1",
   "metadata": {},
   "outputs": [
    {
     "name": "stdout",
     "output_type": "stream",
     "text": [
      "/u/project/pasaniuc/kangchen/2021-h2gene/experiments/01_simulate\n"
     ]
    }
   ],
   "source": [
    "%load_ext autoreload\n",
    "%autoreload 2\n",
    "%load_ext lab_black\n",
    "\n",
    "import submitit\n",
    "import sys\n",
    "from os.path import join\n",
    "\n",
    "sys.path.append(\"../../src\")\n",
    "import simulate\n",
    "import pandas as pd\n",
    "import numpy as np\n",
    "import matplotlib.pyplot as plt\n",
    "import os\n",
    "import subprocess\n",
    "import itertools"
   ]
  },
  {
   "cell_type": "code",
   "execution_count": 2,
   "id": "a5ad18a9-c4d8-468d-bc0c-9daed860a065",
   "metadata": {},
   "outputs": [],
   "source": [
    "CHROM = 1\n",
    "SUMSTATS_DIR = \"/u/project/pasaniuc/pasaniucdata/UKBB_IMPUTED_LD_SUMSTATS\"\n",
    "PLINK_PATH = join(SUMSTATS_DIR, f\"genotype/raw/chr{CHROM}\")\n",
    "LD_PATH = join(SUMSTATS_DIR, \"ld/\")"
   ]
  },
  {
   "cell_type": "code",
   "execution_count": 7,
   "id": "778e2162-9096-4122-8932-95d7fc12abeb",
   "metadata": {},
   "outputs": [],
   "source": [
    "df_params = pd.DataFrame(\n",
    "    [params for params in itertools.product([20, 50, 100], [5], [3], [0.001, 0.01])]\n",
    "    + [params for params in itertools.product([20, 50, 100], [10], [6], [0.001, 0.01])],\n",
    "    columns=[\n",
    "        \"n_causal_gene\",\n",
    "        \"n_body_causal_snp\",\n",
    "        \"n_tss_causal_snp\",\n",
    "        \"prob_background_causal_snp\",\n",
    "    ],\n",
    ")\n",
    "df_params[\"h2_total\"] = 0.05\n",
    "df_params[\"h2_body\"] = 0.03\n",
    "df_params[\"h2_tss\"] = 0.01\n",
    "\n",
    "# TEMPORARY: sub-sample\n",
    "df_params = df_params.iloc[0:2]"
   ]
  },
  {
   "cell_type": "markdown",
   "id": "d5643d44-8ab5-4a5f-9756-77a7076c95cc",
   "metadata": {},
   "source": [
    "# Simulate GWAS"
   ]
  },
  {
   "cell_type": "code",
   "execution_count": 8,
   "id": "92b43a72-61f3-48ca-8040-ca1f5f3d14b0",
   "metadata": {},
   "outputs": [],
   "source": [
    "def submit_simulate(param_i, root_dir=\"out/simulated_gwas\"):\n",
    "    import sys\n",
    "    from os.path import join\n",
    "\n",
    "    sys.path.append(\"../../src\")\n",
    "    import simulate\n",
    "\n",
    "    params = df_params.iloc[param_i, :]\n",
    "    sim = simulate.simulate(\n",
    "        PLINK_PATH,\n",
    "        df_gene=\"data/df_gene.tsv\",\n",
    "        n_causal_gene=int(params.n_causal_gene),\n",
    "        n_body_causal_snp=int(params.n_body_causal_snp),\n",
    "        n_tss_causal_snp=int(params.n_tss_causal_snp),\n",
    "        prob_background_causal_snp=float(params.prob_background_causal_snp),\n",
    "        h2_total=float(params.h2_total),\n",
    "        h2_body=float(params.h2_body),\n",
    "        h2_tss=float(params.h2_tss),\n",
    "    )\n",
    "    out_dir = join(root_dir, f\"param_{param_i}\")\n",
    "\n",
    "    if not os.path.exists(out_dir):\n",
    "        os.makedirs(out_dir)\n",
    "        \n",
    "    np.save(join(out_dir, \"beta.npy\"), sim[\"beta\"])\n",
    "    np.save(join(out_dir, \"pheno.npy\"), sim[\"pheno\"])\n",
    "    np.save(join(out_dir, \"beta_hat.npy\"), sim[\"beta_hat\"])"
   ]
  },
  {
   "cell_type": "code",
   "execution_count": 9,
   "id": "2234a5c7-bab0-442b-9f82-e18788e80899",
   "metadata": {},
   "outputs": [],
   "source": [
    "executor = submitit.SgeExecutor(folder=\"./submitit-logs\")\n",
    "\n",
    "executor.update_parameters(\n",
    "    time_min=60 * 4,\n",
    "    memory_g=60,\n",
    "    setup=[\n",
    "        \"export PATH=~/project-pasaniuc/software/miniconda3/bin:$PATH\",\n",
    "        \"export PYTHONNOUSERSITE=True\",\n",
    "    ],\n",
    ")\n",
    "\n",
    "jobs = executor.map_array(submit_simulate, np.arange(len(df_params)))"
   ]
  },
  {
   "cell_type": "code",
   "execution_count": 15,
   "id": "de186952-a84e-492a-a188-e9cb9d5acb7d",
   "metadata": {},
   "outputs": [],
   "source": []
  },
  {
   "cell_type": "markdown",
   "id": "91c11544-b99e-4a99-aa3e-3a4c39978071",
   "metadata": {},
   "source": [
    "# Partition association files"
   ]
  },
  {
   "cell_type": "code",
   "execution_count": 33,
   "id": "c5cc8c3b-b272-4d0f-a2a9-fa48bffc05a0",
   "metadata": {},
   "outputs": [],
   "source": [
    "def submit_partition_assoc(param_i, root_dir=\"out/simulated_gwas\"):\n",
    "    with open(PLINK_PATH + \".fam\") as f:\n",
    "        n_indiv = len(f.readlines())\n",
    "    partition = pd.read_csv(\"data/partition.bed\", delim_whitespace=True)\n",
    "    snp_info = pd.read_csv(\"data/snp_info.tsv\", delim_whitespace=True)\n",
    "    snp_info[\"N\"] = n_indiv\n",
    "\n",
    "    beta_hat = np.load(join(root_dir, f\"param_{param_i}\", \"beta_hat.npy\"))\n",
    "    n_sim = beta_hat.shape[1]\n",
    "\n",
    "    out_dir = join(root_dir, f\"param_{param_i}\", \"partitioned_assoc\")\n",
    "\n",
    "    if not os.path.exists(out_dir):\n",
    "        os.makedirs(out_dir)\n",
    "\n",
    "    for sim_i in range(n_sim):\n",
    "        assoc = snp_info.copy()\n",
    "        assoc[\"Z\"] = np.sqrt(n_indiv) * beta_hat[:, sim_i]\n",
    "\n",
    "        for par_i, par in partition.iterrows():\n",
    "            par_snps = np.where(\n",
    "                (par.CHR == assoc.CHR.values)\n",
    "                & (par.START <= assoc.BP.values)\n",
    "                & (assoc.BP.values < par.STOP)\n",
    "            )[0]\n",
    "            filename = join(out_dir, f\"sim_{sim_i}_par_{par_i}.tsv.gz\")\n",
    "            assoc.iloc[\n",
    "                par_snps,\n",
    "            ].to_csv(filename, sep=\"\\t\", index=False, float_format=\"%.6f\")"
   ]
  },
  {
   "cell_type": "code",
   "execution_count": null,
   "id": "6e1c93c0-0690-4e2a-99a2-24776ae21df7",
   "metadata": {},
   "outputs": [],
   "source": [
    "executor = submitit.SgeExecutor(folder=\"./submitit-logs\")\n",
    "\n",
    "executor.update_parameters(\n",
    "    time_min=60,\n",
    "    memory_g=12,\n",
    "    setup=[\n",
    "        \"export PATH=~/project-pasaniuc/software/miniconda3/bin:$PATH\",\n",
    "        \"export PYTHONNOUSERSITE=True\",\n",
    "    ],\n",
    ")\n",
    "\n",
    "jobs = executor.map_array(submit_partition_assoc, np.arange(len(df_params)))"
   ]
  },
  {
   "cell_type": "markdown",
   "id": "977cee8c-5f2f-4207-8c78-8dcb3a193afe",
   "metadata": {},
   "source": [
    "# Estimation"
   ]
  },
  {
   "cell_type": "code",
   "execution_count": 49,
   "id": "1429de20-04ef-477d-a9e6-96c821249182",
   "metadata": {},
   "outputs": [],
   "source": [
    "def submit_estimate(param_i, par_i, sim_i, root_dir=\"out/estimate\"):\n",
    "\n",
    "    gene_list = \"data/df_gene.tsv\"\n",
    "    ld_prefix = join(LD_PATH, str(CHROM), f\"par_{par_i}\")\n",
    "    sumstats = f\"out/simulated_gwas/param_{param_i}/partitioned_assoc/sim_{sim_i}_par_{par_i}.tsv.gz\"\n",
    "\n",
    "    out_dir = join(root_dir, f\"param_{par_i}\")\n",
    "    if not os.path.exists(out_dir):\n",
    "        os.makedirs(out_dir)\n",
    "\n",
    "    cmd = \" \".join(\n",
    "        [\n",
    "            \"/u/project/pasaniuc/kangchen/software/miniconda3/envs/r/bin/Rscript\",\n",
    "            \"/u/project/pasaniuc/kangchen/2021-h2gene/src/h2gene_cli.R\",\n",
    "            f\"--ld_prefix {ld_prefix}\",\n",
    "            f\"--gene_list {gene_list}\",\n",
    "            f\"--sumstats {sumstats}\",\n",
    "            \"--out\",\n",
    "            join(out_dir, f\"sim_{sim_i}_par_{par_i}.rds\"),\n",
    "        ]\n",
    "    )\n",
    "\n",
    "    subprocess.check_output(cmd, shell=True)"
   ]
  },
  {
   "cell_type": "code",
   "execution_count": null,
   "id": "ea674315-d52e-49ee-98b2-f2c3de6267b2",
   "metadata": {},
   "outputs": [],
   "source": [
    "executor = submitit.SgeExecutor(folder=\"./submitit-logs\")\n",
    "\n",
    "executor.update_parameters(\n",
    "    time_min=20,\n",
    "    memory_g=8,\n",
    "    setup=[\n",
    "        \"export PATH=~/project-pasaniuc/software/miniconda3/bin:$PATH\",\n",
    "        \"export PYTHONNOUSERSITE=True\",\n",
    "    ],\n",
    ")\n",
    "\n",
    "iter_param, iter_par, iter_sim = list(\n",
    "    zip(*itertools.product(np.arange(len(df_params)), np.arange(100), np.arange(30)))\n",
    ")\n",
    "\n",
    "# jobs = executor.map_array(submit_partition_assoc, np.arange(len(df_params)))"
   ]
  },
  {
   "cell_type": "code",
   "execution_count": 50,
   "id": "42628cf8-9b57-450e-9b52-6e080b8d7a95",
   "metadata": {},
   "outputs": [
    {
     "name": "stdout",
     "output_type": "stream",
     "text": [
      "/u/project/pasaniuc/kangchen/software/miniconda3/envs/r/bin/Rscript /u/project/pasaniuc/kangchen/2021-h2gene/src/h2gene_cli.R --ld_prefix /u/project/pasaniuc/pasaniucdata/UKBB_IMPUTED_LD_SUMSTATS/ld/1/par_0 --gene_list data/df_gene.tsv --sumstats out/simulated_gwas/param_0/partitioned_assoc/sim_0_par_0.tsv.gz --out out/estimate/param_0/sim_0_par_0.rds\n"
     ]
    }
   ],
   "source": [
    "submit_estimate(0, 0, 0)"
   ]
  }
 ],
 "metadata": {
  "kernelspec": {
   "display_name": "Python 3",
   "language": "python",
   "name": "python3"
  },
  "language_info": {
   "codemirror_mode": {
    "name": "ipython",
    "version": 3
   },
   "file_extension": ".py",
   "mimetype": "text/x-python",
   "name": "python",
   "nbconvert_exporter": "python",
   "pygments_lexer": "ipython3",
   "version": "3.8.5"
  }
 },
 "nbformat": 4,
 "nbformat_minor": 5
}
