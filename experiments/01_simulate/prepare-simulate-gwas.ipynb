{
 "cells": [
  {
   "cell_type": "code",
   "execution_count": 32,
   "id": "d86c6d8f-0398-476d-a812-8f2c5ec26ab1",
   "metadata": {},
   "outputs": [
    {
     "name": "stdout",
     "output_type": "stream",
     "text": [
      "The autoreload extension is already loaded. To reload it, use:\n",
      "  %reload_ext autoreload\n",
      "The lab_black extension is already loaded. To reload it, use:\n",
      "  %reload_ext lab_black\n"
     ]
    }
   ],
   "source": [
    "%load_ext autoreload\n",
    "%autoreload 2\n",
    "%load_ext lab_black\n",
    "\n",
    "import submitit\n",
    "import sys\n",
    "from os.path import join\n",
    "\n",
    "sys.path.append(\"../../src\")\n",
    "import simulate\n",
    "import pandas as pd\n",
    "import numpy as np\n",
    "import matplotlib.pyplot as plt\n",
    "import os"
   ]
  },
  {
   "cell_type": "code",
   "execution_count": 2,
   "id": "a5ad18a9-c4d8-468d-bc0c-9daed860a065",
   "metadata": {},
   "outputs": [],
   "source": [
    "CHROM = 1\n",
    "SUMSTATS_DIR = \"/u/project/pasaniuc/pasaniucdata/UKBB_IMPUTED_LD_SUMSTATS\"\n",
    "PLINK_PATH = join(SUMSTATS_DIR, f\"genotype/raw/chr{CHROM}\")\n",
    "LD_PATH = join(SUMSTATS_DIR, \"ld/\")"
   ]
  },
  {
   "cell_type": "code",
   "execution_count": 3,
   "id": "974aefb3-3194-4990-ace2-1c51869f4e41",
   "metadata": {},
   "outputs": [],
   "source": [
    "df_params = pd.DataFrame(\n",
    "    {\n",
    "        \"n_causal_gene\": [20],\n",
    "        \"n_body_causal_snp\": [5],\n",
    "        \"n_tss_causal_snp\": [3],\n",
    "        \"prob_background_causal_snp\": [0.001],\n",
    "        \"h2_total\": [0.05],\n",
    "        \"h2_body\": [0.03],\n",
    "        \"h2_tss\": [0.01],\n",
    "    }\n",
    ")\n",
    "\n",
    "params = df_params.iloc[0, :]"
   ]
  },
  {
   "cell_type": "markdown",
   "id": "d5643d44-8ab5-4a5f-9756-77a7076c95cc",
   "metadata": {},
   "source": [
    "# Simulate phenotypes"
   ]
  },
  {
   "cell_type": "code",
   "execution_count": 27,
   "id": "92b43a72-61f3-48ca-8040-ca1f5f3d14b0",
   "metadata": {},
   "outputs": [],
   "source": [
    "def submit_simulate(param_i, root_dir=\"out/simulated_gwas\"):\n",
    "    import sys\n",
    "    from os.path import join\n",
    "\n",
    "    sys.path.append(\"../../src\")\n",
    "    import simulate\n",
    "\n",
    "    params = df_params.iloc[param_i, :]\n",
    "    sim = simulate.simulate(\n",
    "        PLINK_PATH,\n",
    "        df_gene=\"data/df_gene.tsv\",\n",
    "        n_causal_gene=int(params.n_causal_gene),\n",
    "        n_body_causal_snp=int(params.n_body_causal_snp),\n",
    "        n_tss_causal_snp=int(params.n_tss_causal_snp),\n",
    "        prob_background_causal_snp=float(params.prob_background_causal_snp),\n",
    "        h2_total=float(params.h2_total),\n",
    "        h2_body=float(params.h2_body),\n",
    "        h2_tss=float(params.h2_tss),\n",
    "    )\n",
    "    out_dir = join(root_dir, f\"param_{param_i}\")\n",
    "\n",
    "    if not os.path.exists(out_dir):\n",
    "        os.makedirs(out_dir)\n",
    "    np.save(join(out_dir, \"beta.npy\"), sim[\"beta\"])\n",
    "    np.save(join(out_dir, \"pheno.npy\"), sim[\"pheno\"])\n",
    "    np.save(join(out_dir, \"beta_hat.npy\"), sim[\"beta_hat\"])"
   ]
  },
  {
   "cell_type": "code",
   "execution_count": 5,
   "id": "2234a5c7-bab0-442b-9f82-e18788e80899",
   "metadata": {},
   "outputs": [],
   "source": [
    "executor = submitit.SgeExecutor(folder=\"./submitit-logs\")\n",
    "\n",
    "executor.update_parameters(\n",
    "    time_min=60 * 4,\n",
    "    memory_g=60,\n",
    "    setup=[\n",
    "        \"export PATH=~/project-pasaniuc/software/miniconda3/bin:$PATH\",\n",
    "        \"export PYTHONNOUSERSITE=True\",\n",
    "    ],\n",
    ")\n",
    "\n",
    "jobs = executor.map_array(submit_simulate, np.arange(len(df_params)))"
   ]
  },
  {
   "cell_type": "code",
   "execution_count": 15,
   "id": "de186952-a84e-492a-a188-e9cb9d5acb7d",
   "metadata": {},
   "outputs": [],
   "source": [
    "# pheno1 = np.load(\"simulated_gwas/pheno.npy\")\n",
    "# OLD_DIR = (\n",
    "#     \"/u/project/pasaniuc/kangchen/h2gene/analysis/simulation/out/sim/gwas/20_0.001_5_3\"\n",
    "# )\n",
    "# pheno2 = np.load(join(OLD_DIR, \"phe.npy\"))\n",
    "\n",
    "# beta_hat1 = np.load(\"simulated_gwas/beta_hat.npy\")\n",
    "# OLD_DIR = (\n",
    "#     \"/u/project/pasaniuc/kangchen/h2gene/analysis/simulation/out/sim/gwas/20_0.001_5_3\"\n",
    "# )\n",
    "# beta_hat2 = np.load(join(OLD_DIR, \"beta_hat.npy\"))"
   ]
  },
  {
   "cell_type": "markdown",
   "id": "91c11544-b99e-4a99-aa3e-3a4c39978071",
   "metadata": {},
   "source": [
    "# Partition association files"
   ]
  },
  {
   "cell_type": "code",
   "execution_count": 33,
   "id": "c5cc8c3b-b272-4d0f-a2a9-fa48bffc05a0",
   "metadata": {},
   "outputs": [],
   "source": [
    "def submit_partition_assoc(param_i, root_dir=\"out/simulated_gwas\"):\n",
    "    with open(PLINK_PATH + \".fam\") as f:\n",
    "        n_indiv = len(f.readlines())\n",
    "    partition = pd.read_csv(\"data/partition.bed\", delim_whitespace=True)\n",
    "    snp_info = pd.read_csv(\"data/snp_info.tsv\", delim_whitespace=True)\n",
    "    snp_info[\"N\"] = n_indiv\n",
    "\n",
    "    beta_hat = np.load(join(root_dir, f\"param_{param_i}\", \"beta_hat.npy\"))\n",
    "    n_sim = beta_hat.shape[1]\n",
    "\n",
    "    out_dir = join(root_dir, f\"param_{param_i}\", \"partitioned_assoc\")\n",
    "\n",
    "    if not os.path.exists(out_dir):\n",
    "        os.makedirs(out_dir)\n",
    "\n",
    "    for sim_i in range(n_sim):\n",
    "        assoc = snp_info.copy()\n",
    "        assoc[\"Z\"] = np.sqrt(n_indiv) * beta_hat[:, sim_i]\n",
    "\n",
    "        for par_i, par in partition.iterrows():\n",
    "            par_snps = np.where(\n",
    "                (par.CHR == assoc.CHR.values)\n",
    "                & (par.START <= assoc.BP.values)\n",
    "                & (assoc.BP.values < par.STOP)\n",
    "            )[0]\n",
    "            filename = join(out_dir, f\"sim_{sim_i}_par_{par_i}.tsv.gz\")\n",
    "            assoc.iloc[\n",
    "                par_snps,\n",
    "            ].to_csv(filename, sep=\"\\t\", index=False, float_format=\"%.6f\")"
   ]
  },
  {
   "cell_type": "code",
   "execution_count": 34,
   "id": "58116c1e-1fa0-45b2-a7ef-e9a4c54d8511",
   "metadata": {},
   "outputs": [],
   "source": [
    "submit_partition_assoc(0)\n",
    "\n",
    "# TODO: submit jobs"
   ]
  },
  {
   "cell_type": "code",
   "execution_count": null,
   "id": "1429de20-04ef-477d-a9e6-96c821249182",
   "metadata": {},
   "outputs": [],
   "source": [
    "def submit_estimate(param_i, par_i, root_dir=\"out/estimate\"):\n",
    "    \n",
    "    \n",
    "    if not os.path.exists(out_dir):\n",
    "        os.makedirs(out_dir)\n",
    "        \n",
    "\n",
    "    . /u/local/Modules/default/init/modules.sh\n",
    "    module load gcc/6.3.0\n",
    "    \n",
    "    {params.Rscript} {SRC_DIR}/h2gene_cli.R \\\n",
    "        --ld_prefix {LD_PATH}/{CHR_I}/par_{wildcards.par_i} \\\n",
    "        --gene_list {input.gene_list} \\\n",
    "        --sumstats {input.sumstats} \\\n",
    "        --out {output.estimate}"
   ]
  },
  {
   "cell_type": "markdown",
   "id": "86361e1c-c6ef-4182-acf3-1f2875db4d79",
   "metadata": {},
   "source": [
    "# estimate for each LD region\n",
    "rule estimate:\n",
    "    resources:\n",
    "        mem_gb=lambda wildcards, attempt: attempt * 3 + 4,\n",
    "        time_min=lambda wildcards, attempt: attempt * 20 if attempt <= 2 else attempt * 60\n",
    "    input:\n",
    "        gene_list=\"out/data/gene_list.bed\",\n",
    "        sumstats=\"out/sim/gwas/{sim_prefix}/sim_{sim_i}_par_{par_i}.tsv.gz\"\n",
    "    output:\n",
    "        estimate=\"out/estimate/{sim_prefix}/sim_{sim_i}_par_{par_i}.rds\",\n",
    "    params:\n",
    "        Rscript=\"~/project-pasaniuc/software/anaconda3/envs/r_env/bin/Rscript\",\n",
    "        log=\"log/misc.log\",\n",
    "        out_dir=lambda wildcards, output: output.estimate[:output.estimate.rfind('/')]\n",
    "    shell:\n",
    "        \"\"\"\n",
    "\n",
    "\n",
    "        \"\"\""
   ]
  }
 ],
 "metadata": {
  "kernelspec": {
   "display_name": "Python 3",
   "language": "python",
   "name": "python3"
  },
  "language_info": {
   "codemirror_mode": {
    "name": "ipython",
    "version": 3
   },
   "file_extension": ".py",
   "mimetype": "text/x-python",
   "name": "python",
   "nbconvert_exporter": "python",
   "pygments_lexer": "ipython3",
   "version": "3.8.5"
  }
 },
 "nbformat": 4,
 "nbformat_minor": 5
}
