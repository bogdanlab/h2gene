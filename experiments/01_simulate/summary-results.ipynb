{
 "cells": [
  {
   "cell_type": "code",
   "execution_count": 4,
   "id": "ee488cbd-1010-4ee8-853a-69b714f48f28",
   "metadata": {},
   "outputs": [],
   "source": [
    "rds1 <- readRDS(\"out/estimate/param_0/sim_0_par_0.rds\")"
   ]
  },
  {
   "cell_type": "code",
   "execution_count": 6,
   "id": "787d4828-4f4c-4fa0-acc9-7d39a2f6537f",
   "metadata": {},
   "outputs": [],
   "source": [
    "rds2 <- readRDS(\"/u/project/pasaniuc/kangchen/h2gene/analysis/simulation/out/estimate/20_0.001_5_3/sim_0_par_0.rds\")"
   ]
  },
  {
   "cell_type": "code",
   "execution_count": null,
   "id": "09a0bb03-3790-4236-bd5d-a14800b3a16b",
   "metadata": {},
   "outputs": [],
   "source": [
    "# pheno1 = np.load(\"simulated_gwas/pheno.npy\")\n",
    "# OLD_DIR = (\n",
    "#     \"/u/project/pasaniuc/kangchen/h2gene/analysis/simulation/out/sim/gwas/20_0.001_5_3\"\n",
    "# )\n",
    "# pheno2 = np.load(join(OLD_DIR, \"phe.npy\"))\n",
    "\n",
    "# beta_hat1 = np.load(\"simulated_gwas/beta_hat.npy\")\n",
    "# OLD_DIR = (\n",
    "#     \"/u/project/pasaniuc/kangchen/h2gene/analysis/simulation/out/sim/gwas/20_0.001_5_3\"\n",
    "# )\n",
    "# beta_hat2 = np.load(join(OLD_DIR, \"beta_hat.npy\"))"
   ]
  }
 ],
 "metadata": {
  "kernelspec": {
   "display_name": "R",
   "language": "R",
   "name": "ir"
  },
  "language_info": {
   "codemirror_mode": "r",
   "file_extension": ".r",
   "mimetype": "text/x-r-source",
   "name": "R",
   "pygments_lexer": "r",
   "version": "4.1.0"
  }
 },
 "nbformat": 4,
 "nbformat_minor": 5
}
