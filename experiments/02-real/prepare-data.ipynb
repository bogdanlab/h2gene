{
 "cells": [
  {
   "cell_type": "code",
   "execution_count": 2,
   "id": "221d8602-1caf-4be3-a8de-cd6860dfa987",
   "metadata": {},
   "outputs": [
    {
     "name": "stdout",
     "output_type": "stream",
     "text": [
      "The autoreload extension is already loaded. To reload it, use:\n",
      "  %reload_ext autoreload\n",
      "The lab_black extension is already loaded. To reload it, use:\n",
      "  %reload_ext lab_black\n"
     ]
    }
   ],
   "source": [
    "%load_ext autoreload\n",
    "%autoreload 2\n",
    "%load_ext lab_black\n",
    "\n",
    "import submitit\n",
    "import sys\n",
    "from os.path import join\n",
    "\n",
    "import pandas as pd\n",
    "from tqdm import tqdm\n",
    "import numpy as np"
   ]
  },
  {
   "cell_type": "code",
   "execution_count": 5,
   "id": "1861195f-db7a-4547-8d64-efde042328d1",
   "metadata": {},
   "outputs": [],
   "source": [
    "DATA_ROOT_DIR = \"/u/project/pasaniuc/pasaniucdata/UKBB_IMPUTED_LD_SUMSTATS\"\n",
    "RSCRIPT = \"~/project-pasaniuc/software/anaconda3/envs/r_env/bin/Rscript\""
   ]
  },
  {
   "cell_type": "code",
   "execution_count": 11,
   "id": "790d45c5-9c74-4e5c-9abf-f39d79227646",
   "metadata": {},
   "outputs": [],
   "source": [
    "GENE_LIST_PATH = \"../../data/gene_list.bed\"\n",
    "LD_BLOCK_PATH = \"../../data/ld_blocks.bed\""
   ]
  },
  {
   "cell_type": "markdown",
   "id": "885deb2b-0484-4d42-a7da-70ab110a0e0e",
   "metadata": {},
   "source": [
    "# Prepare data/gene_list.bed and data/partition.bed"
   ]
  },
  {
   "cell_type": "code",
   "execution_count": 17,
   "id": "c65cf29a-f025-4704-a748-d7608a1df64f",
   "metadata": {},
   "outputs": [],
   "source": [
    "df_gene = pd.read_csv(\n",
    "    GENE_LIST_PATH,\n",
    "    header=None,\n",
    "    names=[\"CHR\", \"START\", \"STOP\", \"STRAND\", \"NAME\"],\n",
    "    delim_whitespace=True,\n",
    ")\n",
    "\n",
    "df_gene = df_gene.loc[df_gene.CHR.isin([str(i) for i in range(1, 23)]), :]\n",
    "df_gene.to_csv(\"data/gene_list.bed\", sep=\"\\t\", index=False)\n",
    "\n",
    "df_partition = pd.read_csv(LD_BLOCK_PATH, delim_whitespace=True)\n",
    "df_partition.columns = [\"CHR\", \"START\", \"STOP\"]\n",
    "df_partition[\"CHR\"] = df_partition[\"CHR\"].apply(lambda x: int(x[3:]))\n",
    "df_partition.to_csv(\"data/partition.bed\", sep=\"\\t\", index=False)"
   ]
  }
 ],
 "metadata": {
  "kernelspec": {
   "display_name": "Python 3",
   "language": "python",
   "name": "python3"
  },
  "language_info": {
   "codemirror_mode": {
    "name": "ipython",
    "version": 3
   },
   "file_extension": ".py",
   "mimetype": "text/x-python",
   "name": "python",
   "nbconvert_exporter": "python",
   "pygments_lexer": "ipython3",
   "version": "3.8.5"
  }
 },
 "nbformat": 4,
 "nbformat_minor": 5
}
